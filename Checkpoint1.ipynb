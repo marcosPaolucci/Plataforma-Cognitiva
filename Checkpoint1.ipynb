{
  "nbformat": 4,
  "nbformat_minor": 0,
  "metadata": {
    "colab": {
      "provenance": [],
      "authorship_tag": "ABX9TyPDAvJBvFYCkJ5beTI48SuK",
      "include_colab_link": true
    },
    "kernelspec": {
      "name": "python3",
      "display_name": "Python 3"
    },
    "language_info": {
      "name": "python"
    }
  },
  "cells": [
    {
      "cell_type": "markdown",
      "metadata": {
        "id": "view-in-github",
        "colab_type": "text"
      },
      "source": [
        "<a href=\"https://colab.research.google.com/github/marcosPaolucci/Plataforma-Cognitiva/blob/main/Checkpoint1.ipynb\" target=\"_parent\"><img src=\"https://colab.research.google.com/assets/colab-badge.svg\" alt=\"Open In Colab\"/></a>"
      ]
    },
    {
      "cell_type": "code",
      "execution_count": null,
      "metadata": {
        "id": "6yV007QEaYuW"
      },
      "outputs": [],
      "source": []
    },
    {
      "cell_type": "markdown",
      "source": [
        "RM 554941 -> dígito 1 utilizado\n",
        "camera utilizada : FHAZ"
      ],
      "metadata": {
        "id": "o9LKm-MAVWRk"
      }
    },
    {
      "cell_type": "code",
      "execution_count": 9,
      "metadata": {
        "id": "m2TPyTvegnzg"
      },
      "outputs": [],
      "source": [
        "import requests"
      ]
    },
    {
      "cell_type": "code",
      "source": [
        "apiKey = \"oDr8le1i1UPm85eeiHoyqbwHAr9cWa1SVVcsRi54\"\n",
        "robos = [\"curiosity\",\"opportunity\",\"spirit\" ]\n",
        "print(\"Escolha um dos seguintes valores:\")\n",
        "for i, robos in enumerate(robos):\n",
        "    print(f\"{i+1}: {robos}\")"
      ],
      "metadata": {
        "colab": {
          "base_uri": "https://localhost:8080/"
        },
        "id": "n-vxbwf3anx4",
        "outputId": "5954b1fd-49f1-4344-8d75-9a573a477b84"
      },
      "execution_count": 28,
      "outputs": [
        {
          "output_type": "stream",
          "name": "stdout",
          "text": [
            "Escolha um dos seguintes valores:\n",
            "1: curiosity\n",
            "2: opportunity\n",
            "3: spirit\n"
          ]
        }
      ]
    },
    {
      "cell_type": "code",
      "source": [
        "escolha = input(\"Digite o número correspondente ao robô desejado: \")\n",
        "\n",
        "# Verifica a escolha do usuário e atribui o robô correspondente\n",
        "if escolha == \"1\":\n",
        "    robo_escolhido = \"curiosity\"\n",
        "elif escolha == \"2\":\n",
        "    robo_escolhido = \"perseverance\"\n",
        "elif escolha == \"3\":\n",
        "    robo_escolhido = \"spirit\"\n",
        "else:\n",
        "    robo_escolhido = None\n",
        "    print(\"Por favor, escolha um número válido correspondente a um robô.\")\n",
        "\n",
        "# Se um robô válido foi escolhido, imprime o robô escolhido\n",
        "if robo_escolhido:\n",
        "    print(\"Você escolheu o robô:\", robo_escolhido)"
      ],
      "metadata": {
        "colab": {
          "base_uri": "https://localhost:8080/"
        },
        "id": "c4yGfAH7cctL",
        "outputId": "aa5c7598-d847-4d3d-dffd-8035a55ab8c3"
      },
      "execution_count": 30,
      "outputs": [
        {
          "output_type": "stream",
          "name": "stdout",
          "text": [
            "Digite o número correspondente ao robô desejado: 3\n",
            "Você escolheu o robô: spirit\n"
          ]
        }
      ]
    },
    {
      "cell_type": "code",
      "source": [
        "sol = input(\"Por favor, insira um número entre 0 e 1000: \")\n",
        "\n",
        "# Verifica se o número inserido é válido\n",
        "if sol.isdigit() and 0 <= int(sol) <= 1000:\n",
        "    sol = int(sol)\n",
        "    print(\"Número válido inserido:\", sol)\n",
        "else:\n",
        "    sol = None\n",
        "    print(\"Por favor, insira um número válido entre 0 e 1000.\")"
      ],
      "metadata": {
        "colab": {
          "base_uri": "https://localhost:8080/"
        },
        "id": "RuwnpPx_dxq-",
        "outputId": "187dc6c9-4a6c-44a3-b705-391b8642e1f2"
      },
      "execution_count": 31,
      "outputs": [
        {
          "output_type": "stream",
          "name": "stdout",
          "text": [
            "Por favor, insira um número entre 0 e 1000: 500\n",
            "Número válido inserido: 500\n"
          ]
        }
      ]
    },
    {
      "cell_type": "code",
      "source": [
        "ENDPOINT = f\"https://api.nasa.gov/mars-photos/api/v1/rovers/{robo_escolhido}/photos?sol={sol}&camera=fhaz&api_key={apiKey}\"\n",
        "print(ENDPOINT)"
      ],
      "metadata": {
        "colab": {
          "base_uri": "https://localhost:8080/"
        },
        "id": "t3wUXOCXk43O",
        "outputId": "4daa3d61-f6d5-4c87-a472-de4784713575"
      },
      "execution_count": 32,
      "outputs": [
        {
          "output_type": "stream",
          "name": "stdout",
          "text": [
            "https://api.nasa.gov/mars-photos/api/v1/rovers/spirit/photos?sol=500&camera=fhaz&api_key=oDr8le1i1UPm85eeiHoyqbwHAr9cWa1SVVcsRi54\n"
          ]
        }
      ]
    },
    {
      "cell_type": "code",
      "source": [
        "resultado = requests.get(ENDPOINT)\n",
        "print(resultado)\n",
        "resultado.json()"
      ],
      "metadata": {
        "colab": {
          "base_uri": "https://localhost:8080/"
        },
        "id": "vm2Y-oebg5Nw",
        "outputId": "986ec019-0d23-491a-e010-ab21a8dbb3fa"
      },
      "execution_count": 33,
      "outputs": [
        {
          "output_type": "stream",
          "name": "stdout",
          "text": [
            "<Response [200]>\n"
          ]
        },
        {
          "output_type": "execute_result",
          "data": {
            "text/plain": [
              "{'photos': [{'id': 283882,\n",
              "   'sol': 500,\n",
              "   'camera': {'id': 27,\n",
              "    'name': 'FHAZ',\n",
              "    'rover_id': 7,\n",
              "    'full_name': 'Front Hazard Avoidance Camera'},\n",
              "   'img_src': 'http://mars.nasa.gov/mer/gallery/all/2/f/500/2F170749933EDNAAFQP1131L0M1-BR.JPG',\n",
              "   'earth_date': '2005-05-31',\n",
              "   'rover': {'id': 7,\n",
              "    'name': 'Spirit',\n",
              "    'landing_date': '2004-01-04',\n",
              "    'launch_date': '2003-06-10',\n",
              "    'status': 'complete',\n",
              "    'max_sol': 2208,\n",
              "    'max_date': '2010-03-21',\n",
              "    'total_photos': 124550,\n",
              "    'cameras': [{'name': 'FHAZ', 'full_name': 'Front Hazard Avoidance Camera'},\n",
              "     {'name': 'NAVCAM', 'full_name': 'Navigation Camera'},\n",
              "     {'name': 'PANCAM', 'full_name': 'Panoramic Camera'},\n",
              "     {'name': 'MINITES',\n",
              "      'full_name': 'Miniature Thermal Emission Spectrometer (Mini-TES)'},\n",
              "     {'name': 'ENTRY', 'full_name': 'Entry, Descent, and Landing Camera'},\n",
              "     {'name': 'RHAZ', 'full_name': 'Rear Hazard Avoidance Camera'}]}},\n",
              "  {'id': 283883,\n",
              "   'sol': 500,\n",
              "   'camera': {'id': 27,\n",
              "    'name': 'FHAZ',\n",
              "    'rover_id': 7,\n",
              "    'full_name': 'Front Hazard Avoidance Camera'},\n",
              "   'img_src': 'http://mars.nasa.gov/mer/gallery/all/2/f/500/2F170749933EDNAAFQP1131R0M1-BR.JPG',\n",
              "   'earth_date': '2005-05-31',\n",
              "   'rover': {'id': 7,\n",
              "    'name': 'Spirit',\n",
              "    'landing_date': '2004-01-04',\n",
              "    'launch_date': '2003-06-10',\n",
              "    'status': 'complete',\n",
              "    'max_sol': 2208,\n",
              "    'max_date': '2010-03-21',\n",
              "    'total_photos': 124550,\n",
              "    'cameras': [{'name': 'FHAZ', 'full_name': 'Front Hazard Avoidance Camera'},\n",
              "     {'name': 'NAVCAM', 'full_name': 'Navigation Camera'},\n",
              "     {'name': 'PANCAM', 'full_name': 'Panoramic Camera'},\n",
              "     {'name': 'MINITES',\n",
              "      'full_name': 'Miniature Thermal Emission Spectrometer (Mini-TES)'},\n",
              "     {'name': 'ENTRY', 'full_name': 'Entry, Descent, and Landing Camera'},\n",
              "     {'name': 'RHAZ', 'full_name': 'Rear Hazard Avoidance Camera'}]}}]}"
            ]
          },
          "metadata": {},
          "execution_count": 33
        }
      ]
    },
    {
      "cell_type": "markdown",
      "source": [
        "AGORA PEGANDO SÓ AS IMAGENS:"
      ],
      "metadata": {
        "id": "yChHjs0nXv1y"
      }
    },
    {
      "cell_type": "code",
      "source": [
        "resultadosJson = resultado.json()\n",
        "for cadaitem in resultadosJson['photos']:\n",
        "    print(cadaitem['img_src'])\n"
      ],
      "metadata": {
        "colab": {
          "base_uri": "https://localhost:8080/"
        },
        "id": "258Pfy6zd1-U",
        "outputId": "b36e8a87-e301-49dc-8e90-7ae1751ee5fd"
      },
      "execution_count": 34,
      "outputs": [
        {
          "output_type": "stream",
          "name": "stdout",
          "text": [
            "http://mars.nasa.gov/mer/gallery/all/2/f/500/2F170749933EDNAAFQP1131L0M1-BR.JPG\n",
            "http://mars.nasa.gov/mer/gallery/all/2/f/500/2F170749933EDNAAFQP1131R0M1-BR.JPG\n"
          ]
        }
      ]
    }
  ]
}