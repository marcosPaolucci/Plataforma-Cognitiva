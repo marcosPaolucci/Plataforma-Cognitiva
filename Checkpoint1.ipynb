{
  "nbformat": 4,
  "nbformat_minor": 0,
  "metadata": {
    "colab": {
      "provenance": []
    },
    "kernelspec": {
      "name": "python3",
      "display_name": "Python 3"
    },
    "language_info": {
      "name": "python"
    }
  },
  "cells": [
    {
      "cell_type": "code",
      "execution_count": null,
      "metadata": {
        "id": "6yV007QEaYuW"
      },
      "outputs": [],
      "source": []
    },
    {
      "cell_type": "markdown",
      "source": [
        "RM 554941 -> dígito 1 utilizado"
      ],
      "metadata": {
        "id": "o9LKm-MAVWRk"
      }
    },
    {
      "cell_type": "code",
      "execution_count": 9,
      "metadata": {
        "id": "m2TPyTvegnzg"
      },
      "outputs": [],
      "source": [
        "import requests"
      ]
    },
    {
      "cell_type": "code",
      "source": [
        "apiKey = \"oDr8le1i1UPm85eeiHoyqbwHAr9cWa1SVVcsRi54\""
      ],
      "metadata": {
        "id": "n-vxbwf3anx4"
      },
      "execution_count": 6,
      "outputs": []
    },
    {
      "cell_type": "code",
      "source": [
        "ENDPOINT = f\"https://api.nasa.gov/mars-photos/api/v1/rovers/curiosity/photos?sol=1000&camera=fhaz&api_key={apiKey}\"\n",
        "print(ENDPOINT)"
      ],
      "metadata": {
        "colab": {
          "base_uri": "https://localhost:8080/"
        },
        "id": "t3wUXOCXk43O",
        "outputId": "e563c3e5-3784-4c58-e5a8-f4ecdb1f0368"
      },
      "execution_count": 7,
      "outputs": [
        {
          "output_type": "stream",
          "name": "stdout",
          "text": [
            "https://api.nasa.gov/mars-photos/api/v1/rovers/curiosity/photos?sol=1000&camera=fhaz&api_key=oDr8le1i1UPm85eeiHoyqbwHAr9cWa1SVVcsRi54\n"
          ]
        }
      ]
    },
    {
      "cell_type": "code",
      "source": [
        "resultado = requests.get(ENDPOINT)\n",
        "print(resultado)\n",
        "resultado.json()"
      ],
      "metadata": {
        "colab": {
          "base_uri": "https://localhost:8080/"
        },
        "id": "vm2Y-oebg5Nw",
        "outputId": "55c9f28c-9736-4ad6-a94a-07759f1d11ef"
      },
      "execution_count": 10,
      "outputs": [
        {
          "output_type": "stream",
          "name": "stdout",
          "text": [
            "<Response [200]>\n"
          ]
        },
        {
          "output_type": "execute_result",
          "data": {
            "text/plain": [
              "{'photos': [{'id': 102693,\n",
              "   'sol': 1000,\n",
              "   'camera': {'id': 20,\n",
              "    'name': 'FHAZ',\n",
              "    'rover_id': 5,\n",
              "    'full_name': 'Front Hazard Avoidance Camera'},\n",
              "   'img_src': 'http://mars.jpl.nasa.gov/msl-raw-images/proj/msl/redops/ods/surface/sol/01000/opgs/edr/fcam/FLB_486265257EDR_F0481570FHAZ00323M_.JPG',\n",
              "   'earth_date': '2015-05-30',\n",
              "   'rover': {'id': 5,\n",
              "    'name': 'Curiosity',\n",
              "    'landing_date': '2012-08-06',\n",
              "    'launch_date': '2011-11-26',\n",
              "    'status': 'active',\n",
              "    'max_sol': 4102,\n",
              "    'max_date': '2024-02-19',\n",
              "    'total_photos': 695670,\n",
              "    'cameras': [{'name': 'FHAZ', 'full_name': 'Front Hazard Avoidance Camera'},\n",
              "     {'name': 'NAVCAM', 'full_name': 'Navigation Camera'},\n",
              "     {'name': 'MAST', 'full_name': 'Mast Camera'},\n",
              "     {'name': 'CHEMCAM', 'full_name': 'Chemistry and Camera Complex'},\n",
              "     {'name': 'MAHLI', 'full_name': 'Mars Hand Lens Imager'},\n",
              "     {'name': 'MARDI', 'full_name': 'Mars Descent Imager'},\n",
              "     {'name': 'RHAZ', 'full_name': 'Rear Hazard Avoidance Camera'}]}},\n",
              "  {'id': 102694,\n",
              "   'sol': 1000,\n",
              "   'camera': {'id': 20,\n",
              "    'name': 'FHAZ',\n",
              "    'rover_id': 5,\n",
              "    'full_name': 'Front Hazard Avoidance Camera'},\n",
              "   'img_src': 'http://mars.jpl.nasa.gov/msl-raw-images/proj/msl/redops/ods/surface/sol/01000/opgs/edr/fcam/FRB_486265257EDR_F0481570FHAZ00323M_.JPG',\n",
              "   'earth_date': '2015-05-30',\n",
              "   'rover': {'id': 5,\n",
              "    'name': 'Curiosity',\n",
              "    'landing_date': '2012-08-06',\n",
              "    'launch_date': '2011-11-26',\n",
              "    'status': 'active',\n",
              "    'max_sol': 4102,\n",
              "    'max_date': '2024-02-19',\n",
              "    'total_photos': 695670,\n",
              "    'cameras': [{'name': 'FHAZ', 'full_name': 'Front Hazard Avoidance Camera'},\n",
              "     {'name': 'NAVCAM', 'full_name': 'Navigation Camera'},\n",
              "     {'name': 'MAST', 'full_name': 'Mast Camera'},\n",
              "     {'name': 'CHEMCAM', 'full_name': 'Chemistry and Camera Complex'},\n",
              "     {'name': 'MAHLI', 'full_name': 'Mars Hand Lens Imager'},\n",
              "     {'name': 'MARDI', 'full_name': 'Mars Descent Imager'},\n",
              "     {'name': 'RHAZ', 'full_name': 'Rear Hazard Avoidance Camera'}]}}]}"
            ]
          },
          "metadata": {},
          "execution_count": 10
        }
      ]
    },
    {
      "cell_type": "markdown",
      "source": [
        "AGORA PEGANDO SÓ AS IMAGENS:"
      ],
      "metadata": {
        "id": "yChHjs0nXv1y"
      }
    },
    {
      "cell_type": "code",
      "source": [
        "resultadosJson = resultado.json()\n",
        "for cadaitem in resultadosJson['photos']:\n",
        "    print(cadaitem['img_src'])\n"
      ],
      "metadata": {
        "colab": {
          "base_uri": "https://localhost:8080/"
        },
        "id": "258Pfy6zd1-U",
        "outputId": "e5a76b29-9282-4713-fcca-a8b9feee4146"
      },
      "execution_count": 11,
      "outputs": [
        {
          "output_type": "stream",
          "name": "stdout",
          "text": [
            "http://mars.jpl.nasa.gov/msl-raw-images/proj/msl/redops/ods/surface/sol/01000/opgs/edr/fcam/FLB_486265257EDR_F0481570FHAZ00323M_.JPG\n",
            "http://mars.jpl.nasa.gov/msl-raw-images/proj/msl/redops/ods/surface/sol/01000/opgs/edr/fcam/FRB_486265257EDR_F0481570FHAZ00323M_.JPG\n"
          ]
        }
      ]
    }
  ]
}